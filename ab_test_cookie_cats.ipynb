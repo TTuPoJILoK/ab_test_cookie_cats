{
 "cells": [
  {
   "cell_type": "code",
   "execution_count": 4,
   "id": "36a2dc90",
   "metadata": {},
   "outputs": [],
   "source": [
    "import pandas as pd\n",
    "import numpy as np\n",
    "import matplotlib.pyplot as plt\n",
    "import seaborn as sns\n",
    "from scipy import stats as st"
   ]
  },
  {
   "cell_type": "markdown",
   "id": "e7af90d2",
   "metadata": {},
   "source": [
    "# Описание [датасета](https://www.kaggle.com/datasets/mursideyarkin/mobile-games-ab-testing-cookie-cats/data) с Kaggle\n",
    "\n",
    "\n",
    "### Контекст\n",
    "\n",
    "Этот набор данных содержит результаты A/B тестирования в игре Cookie Cats для изучения того, что происходит, когда первый gate уровень в игре перемещаются с 30-го на 40-й уровень. Когда игрок устанавливал игру, ему случайным образом назначалось значение: либо gate_30, либо gate_40.\n",
    "\n",
    "### Данные\n",
    "\n",
    "У нас есть данные о 90 189 игроках, которые установили игру во время выполнения A/B-теста. \n",
    "\n",
    "### Переменные\n",
    "\n",
    "- **userid:** Уникальный номер, который идентифицирует каждого игрока.\n",
    "- **version:** Был ли игрок включен в контрольную группу (gate_30 - gate на 30-м уровне) или в группу со сдвигом gate уровня (gate_40 - gate на 40-м уровне).\n",
    "- **sum_gamerounds:** количество игровых раундов, сыгранных игроком в течение первых 14 дней после установки.\n",
    "- **retention_1:** Вернулся ли игрок и сыграл ли он через 1 день после установки? (бинарная)\n",
    "- **retention_7:** Возвращался ли игрок к игре через 7 дней после установки? (бинарная)\n",
    "\n",
    "Когда игрок устанавливал игру, он или она были случайным образом были опредлены в группу (или gate_30, или gate_40)."
   ]
  },
  {
   "cell_type": "markdown",
   "id": "f7516aa2",
   "metadata": {},
   "source": [
    "**Так как в описании набора данных, не хватает полного описания самого теста, я попробовал задизайнить этот A/B полноценно. Возможно домысливая в некоторых местах.**"
   ]
  },
  {
   "cell_type": "markdown",
   "id": "c376eb93",
   "metadata": {},
   "source": [
    "# Дизайн эксперимента\n",
    "\n",
    "## Суть эксперимента\n",
    "\n",
    "### Бизнес-проблема\n",
    "\n",
    "У нас есть игра Cookie Cats. В ней есть gate уровни - это особые уровени, на которых игрок сталкивается с определенным барьером или испытанием, которое необходимо преодолеть для продвижения дальше. Мы хотим, чтобы пользователи, играли в игру больше, поэтому попробуем перенсти gate уровень дальше. \n",
    "\n",
    "\n",
    "\n",
    "### Гипотеза\n",
    "\n",
    "**Если** перенести gate уровень с 30 на 40\n",
    "\n",
    "**Тогда** это увеличит число сыгранных раундов на XX (нужно обсуждать!),\n",
    "\n",
    "**Потому что** gate уровень обладает большой сложностью и это позволит пользователям играть дольше не испытвая особенных трудностей в прохождении игры\n",
    "\n",
    "## Метрики\n",
    "\n",
    "Исходя из доступных нам данных в эксперименте будем использовать число игровых раундов. В качестве нулевой гипотезы будет равенство средних. Также используем дополнительные метрики: retention за 1 и за 7 дней. Для числа раундов будем использовать следующий критерий: T-тест или Mann-Whitney, а для retention используем бутстрап.\n",
    " \n",
    "\n",
    "## Принятие решения\n",
    "\n",
    "- **Критерий успеха:** Увеличение числа сыгранных раундов на XX или более, при статистически значимом результате (p-value < 0.05) и без ухудшения дополнительных метрик.\n",
    "\n",
    "- **Критерий провала:** Отсутствие статистически значимого увеличения доли вернувшихся пользователей или статистически значимое уменьшение доли вернувшихся пользоватлей, или значительное ухудшение дополнительных метрик.\n",
    "\n",
    "## Аудитория\n",
    "\n",
    "- **Географические ограничения:** Проводим эксперимент во всех регионах, где есть достаточное количество пользователей для получения значимых результатов.\n",
    "- **Платформы:** Эксперимент проводится для пользоватлей ПК и в мобильном приложении, чтобы учесть всех пользователей.\n",
    "- **Версия приложения:** ХХ и выше.\n",
    "- **Источник трафика:** Включаем все источники трафика (прямые визиты, органический поиск, платная реклама и т.д.).\n",
    "- **Тип пользователей:** Эксперимент проводится на новых пользователях.\n",
    "\n",
    "## Группы\n",
    "\n",
    "- группа А – контроль (gate_30): 50% аудитории.\n",
    "- группа Б – тест (gate_40): 50% аудитории.\n",
    "\n",
    "## Размер выборки и время\n",
    "\n",
    "После этого можно было бы расчитать размер выборки (Sample Size).\n",
    "\n",
    "Зная, базовое число сыгранных раундов = ХX, MDE = X и стандартные уровни значимости ($\\alpha$ = 0.05) и мощности (1 - $\\beta$ = 0.8).\n",
    "\n",
    "Ожидаемую дату окончания можно расчитать по формуле:\n",
    "\n",
    "$$\\frac{2N}{DAU},$$\n",
    "где N - объем нашей выборки.\n",
    "\n",
    "Или наоборот можем катить на 1 или 2 недели, тогда считаем MDE.\n",
    "\n",
    "## Даты\n",
    "\n",
    "Здесь определяем даты и время проведения теста.\n",
    "\n",
    "\n",
    "### Применение методов снижения дисперсии\n",
    "\n",
    "Также стоит отметь некоторые методы, которые используются при A/B тестировании для снижения дисперсии:\n",
    "\n",
    "- Удаление выбросов\n",
    "- Стратификация сэмплирования\n",
    "- CUPED\n",
    "\n",
    "\n"
   ]
  },
  {
   "cell_type": "markdown",
   "id": "ee6ce5a2",
   "metadata": {
    "papermill": {
     "duration": 0.007385,
     "end_time": "2024-03-02T09:45:04.696829",
     "exception": false,
     "start_time": "2024-03-02T09:45:04.689444",
     "status": "completed"
    },
    "tags": []
   },
   "source": [
    "# Разведочный анализ данных"
   ]
  },
  {
   "cell_type": "code",
   "execution_count": 75,
   "id": "b093d428",
   "metadata": {
    "execution": {
     "iopub.execute_input": "2024-03-02T09:45:04.715662Z",
     "iopub.status.busy": "2024-03-02T09:45:04.714261Z",
     "iopub.status.idle": "2024-03-02T09:45:04.843957Z",
     "shell.execute_reply": "2024-03-02T09:45:04.843275Z"
    },
    "papermill": {
     "duration": 0.139809,
     "end_time": "2024-03-02T09:45:04.845691",
     "exception": false,
     "start_time": "2024-03-02T09:45:04.705882",
     "status": "completed"
    },
    "tags": []
   },
   "outputs": [
    {
     "data": {
      "text/html": [
       "<div>\n",
       "<style scoped>\n",
       "    .dataframe tbody tr th:only-of-type {\n",
       "        vertical-align: middle;\n",
       "    }\n",
       "\n",
       "    .dataframe tbody tr th {\n",
       "        vertical-align: top;\n",
       "    }\n",
       "\n",
       "    .dataframe thead th {\n",
       "        text-align: right;\n",
       "    }\n",
       "</style>\n",
       "<table border=\"1\" class=\"dataframe\">\n",
       "  <thead>\n",
       "    <tr style=\"text-align: right;\">\n",
       "      <th></th>\n",
       "      <th>userid</th>\n",
       "      <th>version</th>\n",
       "      <th>sum_gamerounds</th>\n",
       "      <th>retention_1</th>\n",
       "      <th>retention_7</th>\n",
       "    </tr>\n",
       "  </thead>\n",
       "  <tbody>\n",
       "    <tr>\n",
       "      <th>0</th>\n",
       "      <td>116</td>\n",
       "      <td>gate_30</td>\n",
       "      <td>3</td>\n",
       "      <td>False</td>\n",
       "      <td>False</td>\n",
       "    </tr>\n",
       "    <tr>\n",
       "      <th>1</th>\n",
       "      <td>337</td>\n",
       "      <td>gate_30</td>\n",
       "      <td>38</td>\n",
       "      <td>True</td>\n",
       "      <td>False</td>\n",
       "    </tr>\n",
       "    <tr>\n",
       "      <th>2</th>\n",
       "      <td>377</td>\n",
       "      <td>gate_40</td>\n",
       "      <td>165</td>\n",
       "      <td>True</td>\n",
       "      <td>False</td>\n",
       "    </tr>\n",
       "    <tr>\n",
       "      <th>3</th>\n",
       "      <td>483</td>\n",
       "      <td>gate_40</td>\n",
       "      <td>1</td>\n",
       "      <td>False</td>\n",
       "      <td>False</td>\n",
       "    </tr>\n",
       "    <tr>\n",
       "      <th>4</th>\n",
       "      <td>488</td>\n",
       "      <td>gate_40</td>\n",
       "      <td>179</td>\n",
       "      <td>True</td>\n",
       "      <td>True</td>\n",
       "    </tr>\n",
       "  </tbody>\n",
       "</table>\n",
       "</div>"
      ],
      "text/plain": [
       "   userid  version  sum_gamerounds  retention_1  retention_7\n",
       "0     116  gate_30               3        False        False\n",
       "1     337  gate_30              38         True        False\n",
       "2     377  gate_40             165         True        False\n",
       "3     483  gate_40               1        False        False\n",
       "4     488  gate_40             179         True         True"
      ]
     },
     "execution_count": 75,
     "metadata": {},
     "output_type": "execute_result"
    }
   ],
   "source": [
    "df = pd.read_csv('cookie_cats.csv' )\n",
    "df.head()"
   ]
  },
  {
   "cell_type": "code",
   "execution_count": 76,
   "id": "b9badd6a",
   "metadata": {},
   "outputs": [
    {
     "data": {
      "text/plain": [
       "(90189, 5)"
      ]
     },
     "execution_count": 76,
     "metadata": {},
     "output_type": "execute_result"
    }
   ],
   "source": [
    "df.shape"
   ]
  },
  {
   "cell_type": "code",
   "execution_count": 77,
   "id": "1bff5d31",
   "metadata": {},
   "outputs": [
    {
     "name": "stdout",
     "output_type": "stream",
     "text": [
      "<class 'pandas.core.frame.DataFrame'>\n",
      "RangeIndex: 90189 entries, 0 to 90188\n",
      "Data columns (total 5 columns):\n",
      " #   Column          Non-Null Count  Dtype \n",
      "---  ------          --------------  ----- \n",
      " 0   userid          90189 non-null  int64 \n",
      " 1   version         90189 non-null  object\n",
      " 2   sum_gamerounds  90189 non-null  int64 \n",
      " 3   retention_1     90189 non-null  bool  \n",
      " 4   retention_7     90189 non-null  bool  \n",
      "dtypes: bool(2), int64(2), object(1)\n",
      "memory usage: 2.2+ MB\n"
     ]
    }
   ],
   "source": [
    "df.info()"
   ]
  },
  {
   "cell_type": "markdown",
   "id": "1982c940",
   "metadata": {},
   "source": [
    "У нас нет пропущенных значений."
   ]
  },
  {
   "cell_type": "markdown",
   "id": "90bc2a9a",
   "metadata": {},
   "source": [
    "#### Посмотрим на распределение групп"
   ]
  },
  {
   "cell_type": "code",
   "execution_count": 78,
   "id": "9167ef87",
   "metadata": {},
   "outputs": [
    {
     "data": {
      "text/plain": [
       "gate_40    45489\n",
       "gate_30    44700\n",
       "Name: version, dtype: int64"
      ]
     },
     "execution_count": 78,
     "metadata": {},
     "output_type": "execute_result"
    }
   ],
   "source": [
    "df['version'].value_counts()"
   ]
  },
  {
   "cell_type": "code",
   "execution_count": 79,
   "id": "6db4ec06",
   "metadata": {},
   "outputs": [
    {
     "data": {
      "image/png": "[encoded data removed]",
      "text/plain": [
       "<Figure size 432x288 with 1 Axes>"
      ]
     },
     "metadata": {
      "needs_background": "light"
     },
     "output_type": "display_data"
    }
   ],
   "source": [
    "sns.countplot(data=df, x='version');"
   ]
  },
  {
   "cell_type": "markdown",
   "id": "6db20908",
   "metadata": {},
   "source": [
    "Группы почти равные."
   ]
  },
  {
   "cell_type": "markdown",
   "id": "b07a49c7",
   "metadata": {},
   "source": [
    "#### Посмотрим на распределение сыгранных уровней"
   ]
  },
  {
   "cell_type": "code",
   "execution_count": 80,
   "id": "6c0dcdb6",
   "metadata": {},
   "outputs": [
    {
     "data": {
      "image/png": "[encoded data removed]",
      "text/plain": [
       "<Figure size 432x288 with 1 Axes>"
      ]
     },
     "metadata": {
      "needs_background": "light"
     },
     "output_type": "display_data"
    }
   ],
   "source": [
    "sns.histplot(df, x='sum_gamerounds', bins=100);"
   ]
  },
  {
   "cell_type": "markdown",
   "id": "cb82d78a",
   "metadata": {},
   "source": [
    "График выглядит странно. Число уровней доходит до 50000 за 2 недели. Посмотрим на данные в разрезе по уровню gate и в табличном виде."
   ]
  },
  {
   "cell_type": "code",
   "execution_count": 81,
   "id": "2efcde16",
   "metadata": {},
   "outputs": [
    {
     "data": {
      "text/html": [
       "<div>\n",
       "<style scoped>\n",
       "    .dataframe tbody tr th:only-of-type {\n",
       "        vertical-align: middle;\n",
       "    }\n",
       "\n",
       "    .dataframe tbody tr th {\n",
       "        vertical-align: top;\n",
       "    }\n",
       "\n",
       "    .dataframe thead th {\n",
       "        text-align: right;\n",
       "    }\n",
       "</style>\n",
       "<table border=\"1\" class=\"dataframe\">\n",
       "  <thead>\n",
       "    <tr style=\"text-align: right;\">\n",
       "      <th></th>\n",
       "      <th>index</th>\n",
       "      <th>name</th>\n",
       "      <th>count</th>\n",
       "      <th>mean</th>\n",
       "      <th>std</th>\n",
       "      <th>min</th>\n",
       "      <th>50%</th>\n",
       "      <th>90%</th>\n",
       "      <th>95%</th>\n",
       "      <th>99%</th>\n",
       "      <th>max</th>\n",
       "    </tr>\n",
       "  </thead>\n",
       "  <tbody>\n",
       "    <tr>\n",
       "      <th>0</th>\n",
       "      <td>0</td>\n",
       "      <td>gate_30</td>\n",
       "      <td>44700.0</td>\n",
       "      <td>52.456264</td>\n",
       "      <td>256.716423</td>\n",
       "      <td>0.0</td>\n",
       "      <td>17.0</td>\n",
       "      <td>135.0</td>\n",
       "      <td>222.0</td>\n",
       "      <td>493.00</td>\n",
       "      <td>49854.0</td>\n",
       "    </tr>\n",
       "    <tr>\n",
       "      <th>1</th>\n",
       "      <td>0</td>\n",
       "      <td>gate_40</td>\n",
       "      <td>45489.0</td>\n",
       "      <td>51.298776</td>\n",
       "      <td>103.294416</td>\n",
       "      <td>0.0</td>\n",
       "      <td>16.0</td>\n",
       "      <td>134.0</td>\n",
       "      <td>220.0</td>\n",
       "      <td>492.12</td>\n",
       "      <td>2640.0</td>\n",
       "    </tr>\n",
       "  </tbody>\n",
       "</table>\n",
       "</div>"
      ],
      "text/plain": [
       "   index     name    count       mean         std  min   50%    90%    95%  \\\n",
       "0      0  gate_30  44700.0  52.456264  256.716423  0.0  17.0  135.0  222.0   \n",
       "1      0  gate_40  45489.0  51.298776  103.294416  0.0  16.0  134.0  220.0   \n",
       "\n",
       "      99%      max  \n",
       "0  493.00  49854.0  \n",
       "1  492.12   2640.0  "
      ]
     },
     "execution_count": 81,
     "metadata": {},
     "output_type": "execute_result"
    }
   ],
   "source": [
    "stats = pd.concat([df[df['version']=='gate_30'].describe(percentiles=[.90, .95, .99]).T. \\\n",
    "                   iloc[1:].reset_index().rename(columns={'index': 'name'}),\n",
    "         df[df['version']=='gate_40'].describe(percentiles=[.90, .95, .99]).T. \\\n",
    "                   iloc[1:].reset_index().rename(columns={'index': 'name'})]).reset_index()\n",
    "\n",
    "stats.loc[0, 'name'] = 'gate_30'\n",
    "stats.loc[1, 'name'] = 'gate_40'\n",
    "stats"
   ]
  },
  {
   "cell_type": "markdown",
   "id": "4ed5035b",
   "metadata": {},
   "source": [
    "Можно заметить следующие результаты:\n",
    "- В группе gate_30 максимальное число уровней доходит до 49854.\n",
    "- Среднее значение выше в групе gate_30. Нужно выяснить статистически значимы эти различия или нет.\n",
    "- Есть пользователи с 0 пройденных уровней. Много ли таких?\n",
    "- Стандартное отклонение гораздо больше в группе gate_30. Возможно это из-за аномально высокого максимального значения."
   ]
  },
  {
   "cell_type": "markdown",
   "id": "2673d837",
   "metadata": {},
   "source": [
    "Посмотрим на макисмальное число сыгранных уровней. Отсортируем df по числу сыгранных уровней."
   ]
  },
  {
   "cell_type": "code",
   "execution_count": 82,
   "id": "9a0fd365",
   "metadata": {},
   "outputs": [
    {
     "data": {
      "text/html": [
       "<div>\n",
       "<style scoped>\n",
       "    .dataframe tbody tr th:only-of-type {\n",
       "        vertical-align: middle;\n",
       "    }\n",
       "\n",
       "    .dataframe tbody tr th {\n",
       "        vertical-align: top;\n",
       "    }\n",
       "\n",
       "    .dataframe thead th {\n",
       "        text-align: right;\n",
       "    }\n",
       "</style>\n",
       "<table border=\"1\" class=\"dataframe\">\n",
       "  <thead>\n",
       "    <tr style=\"text-align: right;\">\n",
       "      <th></th>\n",
       "      <th>userid</th>\n",
       "      <th>version</th>\n",
       "      <th>sum_gamerounds</th>\n",
       "      <th>retention_1</th>\n",
       "      <th>retention_7</th>\n",
       "    </tr>\n",
       "  </thead>\n",
       "  <tbody>\n",
       "    <tr>\n",
       "      <th>57702</th>\n",
       "      <td>6390605</td>\n",
       "      <td>gate_30</td>\n",
       "      <td>49854</td>\n",
       "      <td>False</td>\n",
       "      <td>True</td>\n",
       "    </tr>\n",
       "    <tr>\n",
       "      <th>7912</th>\n",
       "      <td>871500</td>\n",
       "      <td>gate_30</td>\n",
       "      <td>2961</td>\n",
       "      <td>True</td>\n",
       "      <td>True</td>\n",
       "    </tr>\n",
       "    <tr>\n",
       "      <th>29417</th>\n",
       "      <td>3271615</td>\n",
       "      <td>gate_40</td>\n",
       "      <td>2640</td>\n",
       "      <td>True</td>\n",
       "      <td>False</td>\n",
       "    </tr>\n",
       "    <tr>\n",
       "      <th>43671</th>\n",
       "      <td>4832608</td>\n",
       "      <td>gate_30</td>\n",
       "      <td>2438</td>\n",
       "      <td>True</td>\n",
       "      <td>True</td>\n",
       "    </tr>\n",
       "    <tr>\n",
       "      <th>48188</th>\n",
       "      <td>5346171</td>\n",
       "      <td>gate_40</td>\n",
       "      <td>2294</td>\n",
       "      <td>True</td>\n",
       "      <td>True</td>\n",
       "    </tr>\n",
       "  </tbody>\n",
       "</table>\n",
       "</div>"
      ],
      "text/plain": [
       "        userid  version  sum_gamerounds  retention_1  retention_7\n",
       "57702  6390605  gate_30           49854        False         True\n",
       "7912    871500  gate_30            2961         True         True\n",
       "29417  3271615  gate_40            2640         True        False\n",
       "43671  4832608  gate_30            2438         True         True\n",
       "48188  5346171  gate_40            2294         True         True"
      ]
     },
     "execution_count": 82,
     "metadata": {},
     "output_type": "execute_result"
    }
   ],
   "source": [
    "df.sort_values(by='sum_gamerounds', ascending=False).head()"
   ]
  },
  {
   "cell_type": "markdown",
   "id": "84f06925",
   "metadata": {},
   "source": [
    "Такой человек всего 1. Пройти 2961 уровень за 2 недели кажется возможным, а вот почти 50000 уровней нереально. Скорее всего этот игрок использовал читы, поэтому исключим его из рассмотрения. "
   ]
  },
  {
   "cell_type": "code",
   "execution_count": 83,
   "id": "036145c3",
   "metadata": {},
   "outputs": [],
   "source": [
    "df = df[df['sum_gamerounds'] != 49854]"
   ]
  },
  {
   "cell_type": "markdown",
   "id": "f579ee5d",
   "metadata": {},
   "source": [
    "Посчитаем теперь сколько человек никогда не запускали игру."
   ]
  },
  {
   "cell_type": "code",
   "execution_count": 84,
   "id": "995cdce4",
   "metadata": {},
   "outputs": [
    {
     "name": "stdout",
     "output_type": "stream",
     "text": [
      "4.43% игроков никогда не запускали игру.\n"
     ]
    }
   ],
   "source": [
    "print(str(round(df[df['sum_gamerounds'] == 0].shape[0] / df.shape[0] * 100, 2)) + '% игроков никогда не запускали игру.')"
   ]
  },
  {
   "cell_type": "markdown",
   "id": "b6e657f2",
   "metadata": {},
   "source": [
    "Таких игроков относительно немного."
   ]
  },
  {
   "cell_type": "markdown",
   "id": "59d3e39e",
   "metadata": {},
   "source": [
    "#### Посмотрим на retention"
   ]
  },
  {
   "cell_type": "code",
   "execution_count": 87,
   "id": "10d0611d",
   "metadata": {},
   "outputs": [
    {
     "data": {
      "text/html": [
       "<div>\n",
       "<style scoped>\n",
       "    .dataframe tbody tr th:only-of-type {\n",
       "        vertical-align: middle;\n",
       "    }\n",
       "\n",
       "    .dataframe tbody tr th {\n",
       "        vertical-align: top;\n",
       "    }\n",
       "\n",
       "    .dataframe thead th {\n",
       "        text-align: right;\n",
       "    }\n",
       "</style>\n",
       "<table border=\"1\" class=\"dataframe\">\n",
       "  <thead>\n",
       "    <tr style=\"text-align: right;\">\n",
       "      <th></th>\n",
       "      <th>version</th>\n",
       "      <th>retention_1</th>\n",
       "      <th>retention_7</th>\n",
       "    </tr>\n",
       "  </thead>\n",
       "  <tbody>\n",
       "    <tr>\n",
       "      <th>0</th>\n",
       "      <td>gate_30</td>\n",
       "      <td>0.448198</td>\n",
       "      <td>0.190183</td>\n",
       "    </tr>\n",
       "    <tr>\n",
       "      <th>1</th>\n",
       "      <td>gate_40</td>\n",
       "      <td>0.442283</td>\n",
       "      <td>0.182000</td>\n",
       "    </tr>\n",
       "  </tbody>\n",
       "</table>\n",
       "</div>"
      ],
      "text/plain": [
       "   version  retention_1  retention_7\n",
       "0  gate_30     0.448198     0.190183\n",
       "1  gate_40     0.442283     0.182000"
      ]
     },
     "execution_count": 87,
     "metadata": {},
     "output_type": "execute_result"
    }
   ],
   "source": [
    "df.groupby('version', as_index=False).agg({'retention_1': 'mean', 'retention_7': 'mean'})"
   ]
  },
  {
   "cell_type": "markdown",
   "id": "4d5b2981",
   "metadata": {},
   "source": [
    "Retention выше у группы gate_30, причем и за 1 день, и за 7 дней. Остается выясмнить являются ли эти различия статистически значимыми."
   ]
  },
  {
   "cell_type": "markdown",
   "id": "0a37b73e",
   "metadata": {},
   "source": [
    "# Анализ результатов A/B теста"
   ]
  },
  {
   "cell_type": "markdown",
   "id": "cf259ef7",
   "metadata": {},
   "source": [
    "## Анализ для числа сыгранных раундов"
   ]
  },
  {
   "cell_type": "markdown",
   "id": "631ab5b5",
   "metadata": {},
   "source": [
    "Для применения T-теста наблюдения должны быть независимы и выборочные средние нормально распределены. Наблюдения у нас независимы по построению нашей выборки. Проверим нормальность распределения выборочных средних с помощью теста Шапиро-Уилка. Для этого возьмем 1000 раз выборку в 1000 элементов из наших данных по каждой группе и посчитаем средние значения по кажой выборке. К получившимся массивам применим критерий Шапиро-Уилка."
   ]
  },
  {
   "cell_type": "code",
   "execution_count": 88,
   "id": "8c5a06e6",
   "metadata": {},
   "outputs": [],
   "source": [
    "means_A = []\n",
    "means_B = []\n",
    "i = 0\n",
    "\n",
    "while i < 1000:\n",
    "    sample_A = np.random.choice(df[df['version'] == 'gate_30']['sum_gamerounds'], replace=True, size=1000)\n",
    "    sample_B = np.random.choice(df[df['version'] == 'gate_40']['sum_gamerounds'], replace=True, size=1000)\n",
    "    means_A.append(sample_A.mean())\n",
    "    means_B.append(sample_B.mean())\n",
    "    i += 1"
   ]
  },
  {
   "cell_type": "code",
   "execution_count": 91,
   "id": "558e6b9a",
   "metadata": {},
   "outputs": [
    {
     "name": "stdout",
     "output_type": "stream",
     "text": [
      "p-value для группы gate_30: 0.02163967676460743\n",
      "p-value для группы gate_40: 0.029699472710490227\n"
     ]
    }
   ],
   "source": [
    "print('p-value для группы gate_30:', st.shapiro(means_A)[1])\n",
    "print('p-value для группы gate_40:', st.shapiro(means_B)[1])"
   ]
  },
  {
   "cell_type": "markdown",
   "id": "5f5a61c1",
   "metadata": {},
   "source": [
    "p-value меньше 0.05 в обоих случаях, значит мы не можем принять гипотезу о том, что данные нормально распределены."
   ]
  },
  {
   "cell_type": "markdown",
   "id": "a5131fbc",
   "metadata": {},
   "source": [
    "Тогда используем тест Манна-Уитни."
   ]
  },
  {
   "cell_type": "code",
   "execution_count": 98,
   "id": "d5d36320",
   "metadata": {},
   "outputs": [
    {
     "name": "stdout",
     "output_type": "stream",
     "text": [
      "p-value теста Манна-Уитни: 0.05089155279145376\n"
     ]
    }
   ],
   "source": [
    "st.mannwhitneyu(df[df[\"version\"] == \"gate_30\"][\"sum_gamerounds\"],\n",
    "                            df[df[\"version\"] == \"gate_40\"][\"sum_gamerounds\"])\n",
    "print(\"p-value теста Манна-Уитни:\", st.mannwhitneyu(df[df[\"version\"] == \"gate_30\"][\"sum_gamerounds\"],\n",
    "                            df[df[\"version\"] == \"gate_40\"][\"sum_gamerounds\"])[1])"
   ]
  },
  {
   "cell_type": "markdown",
   "id": "a402ab71",
   "metadata": {},
   "source": [
    "Как мы видели, среднее значение сыгранных раундов ухудшилось в группе gate_40. Теперь можно добавить что это ухудшение не является статистически значимым, согласно тесту Манна-Уитни p-value получилось больше 0.05 и мы не можем отклонить нулевую гипотезу о равенстве средних."
   ]
  },
  {
   "cell_type": "markdown",
   "id": "fd2c1d2e",
   "metadata": {},
   "source": [
    "## Анализ для retention"
   ]
  },
  {
   "cell_type": "markdown",
   "id": "ce2e967f",
   "metadata": {},
   "source": [
    "Используем бутстрап для анализа retention:\n",
    "\n",
    "1. Сгенерируем 1000 псевдовыборок с возвращением из нашей\n",
    "2. Вычисляем 1-дневный и 7-дневный retention для кажой из групп\n",
    "3. Построим полученные распределения\n",
    "4. Вычислим разницу между группами\n",
    "5. Вычислим вероятность retention быть выше для группы gate_30 (ранее видели, что retention в этой группе выше)"
   ]
  },
  {
   "cell_type": "code",
   "execution_count": 128,
   "id": "109c58fa",
   "metadata": {},
   "outputs": [
    {
     "data": {
      "image/png": "[encoded data removed]",
      "text/plain": [
       "<Figure size 432x288 with 1 Axes>"
      ]
     },
     "metadata": {
      "needs_background": "light"
     },
     "output_type": "display_data"
    }
   ],
   "source": [
    "retention_1 = []\n",
    "retention_7 = []\n",
    "\n",
    "for i in range(1000):\n",
    "    mean_1 = df.sample(frac=1, replace=True).groupby('version')['retention_1'].mean()\n",
    "    mean_7 = df.sample(frac=1, replace=True).groupby('version')['retention_7'].mean()\n",
    "    retention_1.append(mean_1)\n",
    "    retention_7.append(mean_7)\n",
    "    \n",
    "retention_1 = pd.DataFrame(retention_1)\n",
    "retention_7 = pd.DataFrame(retention_7)\n",
    "\n",
    "sns.histplot(retention_1).set_title(\"1-дневный retention по группам\", fontweight=\"semibold\",size=12);"
   ]
  },
  {
   "cell_type": "code",
   "execution_count": 127,
   "id": "f6bdc4f9",
   "metadata": {},
   "outputs": [
    {
     "data": {
      "image/png": "[encoded data removed]",
      "text/plain": [
       "<Figure size 432x288 with 1 Axes>"
      ]
     },
     "metadata": {
      "needs_background": "light"
     },
     "output_type": "display_data"
    }
   ],
   "source": [
    "sns.histplot(retention_7).set_title(\"7-дневный retention по группам\", fontweight=\"semibold\",size=12);"
   ]
  },
  {
   "cell_type": "markdown",
   "id": "fd67a1e1",
   "metadata": {},
   "source": [
    "Посмотрим теперь на разность распределений."
   ]
  },
  {
   "cell_type": "code",
   "execution_count": 129,
   "id": "c30856a1",
   "metadata": {},
   "outputs": [
    {
     "data": {
      "image/png": "[encoded data removed]",
      "text/plain": [
       "<Figure size 432x288 with 1 Axes>"
      ]
     },
     "metadata": {
      "needs_background": "light"
     },
     "output_type": "display_data"
    }
   ],
   "source": [
    "retention_1['diff'] = retention_1['gate_30'] - retention_1['gate_40']\n",
    "retention_7['diff'] = retention_7['gate_30'] - retention_7['gate_40']\n",
    "\n",
    "sns.histplot(retention_1['diff']).set_title(\"Разность распределений для 1-дневного retention\", fontweight=\"semibold\",size=12);"
   ]
  },
  {
   "cell_type": "code",
   "execution_count": 131,
   "id": "a0b7c1b6",
   "metadata": {},
   "outputs": [
    {
     "data": {
      "image/png": "[encoded data removed]",
      "text/plain": [
       "<Figure size 432x288 with 1 Axes>"
      ]
     },
     "metadata": {
      "needs_background": "light"
     },
     "output_type": "display_data"
    }
   ],
   "source": [
    "sns.histplot(retention_7['diff']).set_title(\"Разность распределений для 7-дневного retention\", fontweight=\"semibold\",size=12);"
   ]
  },
  {
   "cell_type": "markdown",
   "id": "e80e5817",
   "metadata": {},
   "source": [
    "Как можно заметить разность распределений для 7-дневного retention почти не пересекает 0. То есть в этом случае почти всегда будет лучше группа gate_30. Для 1-дневного retention разница в основном больше 0. Посчитаем вероятности этой метрики быть больше в группе gate_30."
   ]
  },
  {
   "cell_type": "code",
   "execution_count": 132,
   "id": "ddba62e8",
   "metadata": {},
   "outputs": [
    {
     "name": "stdout",
     "output_type": "stream",
     "text": [
      "Вероятность значения 1-дневного retention быть больше в группе gate_30: 0.963\n",
      "Вероятность значения 7-дневного retention быть больше в группе gate_30: 0.999\n"
     ]
    }
   ],
   "source": [
    "prob_1 = (retention_1['diff']>0).sum() / len(retention_1['diff'])\n",
    "print('Вероятность значения 1-дневного retention быть больше в группе gate_30:', prob_1)\n",
    "\n",
    "prob_7 = (retention_7['diff']>0).sum() / len(retention_7['diff'])\n",
    "print('Вероятность значения 7-дневного retention быть больше в группе gate_30:', prob_7)"
   ]
  },
  {
   "cell_type": "markdown",
   "id": "a48c7d47",
   "metadata": {},
   "source": [
    "Обе вероятности достаточно велики и больше 95%, для 7-дневного retention вероятность почти равна 1. Таким образом, можно сделать вывод, что retention больше в группе gate_30."
   ]
  },
  {
   "cell_type": "markdown",
   "id": "8b600af5",
   "metadata": {},
   "source": [
    "# Выводы"
   ]
  },
  {
   "cell_type": "markdown",
   "id": "9c8b5423",
   "metadata": {},
   "source": [
    "Как мы уже видели, после введения изменения среднее значение числа сыгранных раундов изменилось в худшую сторону. Результаты теста Манна-Уитни не являются статистически значимвыми. Также новое изменение влияет на retention в худшую сторону. Результаты бутстрапа показывают ухудшения для 7-дневного retention в 99.9% случаев, а для однодневного в 96.3% случаев.\n",
    "\n",
    "Таким образом, данная фича не рекомендуется к использованию. Лучше оставить gate на 30 уровне."
   ]
  }
 ],
 "metadata": {
  "kaggle": {
   "accelerator": "none",
   "dataSources": [
    {
     "datasetId": 1149830,
     "sourceId": 1927698,
     "sourceType": "datasetVersion"
    }
   ],
   "dockerImageVersionId": 30527,
   "isGpuEnabled": false,
   "isInternetEnabled": true,
   "language": "python",
   "sourceType": "notebook"
  },
  "kernelspec": {
   "display_name": "Python 3 (ipykernel)",
   "language": "python",
   "name": "python3"
  },
  "language_info": {
   "codemirror_mode": {
    "name": "ipython",
    "version": 3
   },
   "file_extension": ".py",
   "mimetype": "text/x-python",
   "name": "python",
   "nbconvert_exporter": "python",
   "pygments_lexer": "ipython3",
   "version": "3.9.7"
  },
  "papermill": {
   "default_parameters": {},
   "duration": 15.807498,
   "end_time": "2024-03-02T09:45:07.721958",
   "environment_variables": {},
   "exception": null,
   "input_path": "__notebook__.ipynb",
   "output_path": "__notebook__.ipynb",
   "parameters": {},
   "start_time": "2024-03-02T09:44:51.914460",
   "version": "2.4.0"
  },
  "varInspector": {
   "cols": {
    "lenName": 16,
    "lenType": 16,
    "lenVar": 40
   },
   "kernels_config": {
    "python": {
     "delete_cmd_postfix": "",
     "delete_cmd_prefix": "del ",
     "library": "var_list.py",
     "varRefreshCmd": "print(var_dic_list())"
    },
    "r": {
     "delete_cmd_postfix": ") ",
     "delete_cmd_prefix": "rm(",
     "library": "var_list.r",
     "varRefreshCmd": "cat(var_dic_list()) "
    }
   },
   "types_to_exclude": [
    "module",
    "function",
    "builtin_function_or_method",
    "instance",
    "_Feature"
   ],
   "window_display": false
  }
 },
 "nbformat": 4,
 "nbformat_minor": 5
}
